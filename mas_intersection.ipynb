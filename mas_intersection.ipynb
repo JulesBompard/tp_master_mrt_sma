{
 "cells": [
  {
   "cell_type": "markdown",
   "id": "08c27343-ce9f-428e-9d51-79921abd1815",
   "metadata": {},
   "source": [
    "# TP intersections\n",
    "\n",
    "L'objectif de ce TP est de créer un simulateur de trafic routier simple, avec intersections. Ce SMA contiendra plusieurs types d'agents : les véhicules et les intersections. L'objectif est de fluidifier le trafic le plus possible."
   ]
  },
  {
   "cell_type": "code",
   "execution_count": null,
   "id": "4d7de365-b61a-4786-89e5-a6fe5455574f",
   "metadata": {},
   "outputs": [],
   "source": [
    "import random"
   ]
  },
  {
   "cell_type": "markdown",
   "id": "6ca15266-1ab8-4211-9fa1-ca434de6e5f0",
   "metadata": {},
   "source": [
    "# I. Implémentation du simulateur\n",
    "\n",
    "Dans cette partie, nous implémentons un simulateur de trafic routier. Ce simulateur a pour vocation d'être le plus simple possible : nous suivons le paradigme KISS (*Keep It Simple, Stupid*). Le réseau routier est composé de routes sur lesquelles circulent des voitures. Des intersections sont implémentées au bout de chaque route qui n'est pas une sortie. Les intersections et les routes possèdent une stratégie, déterminant leur comportement sur le réseau.\n",
    "\n",
    "### 1. Définition d'une route\n",
    "\n",
    "Pour rester le plus simple possible, nous modélisons une route sous la forme d'un vecteur. Chaque case du vecteur représente une position qui ne peut-être occupée que par un véhicule à la fois. Au bout de chaque route se trouve une intersection, qu'il faudra ajouter manuellement après l'avoir définie. Nous implémentons également une fonction `est_feu_vert` qui indique si cette route à le droit de passer à l'intersection , s'il y en a une."
   ]
  },
  {
   "cell_type": "code",
   "execution_count": null,
   "id": "1db76c78-12ae-4ab8-a806-cf5a11b28bf3",
   "metadata": {},
   "outputs": [],
   "source": [
    "# Définition d'une route\n",
    "\n",
    "class Route:\n",
    "\n",
    "    def __init__(self, nom, type_route, longueur):\n",
    "        self.nom = nom\n",
    "        self.type_route = type_route # entree, sortie, lien\n",
    "        self.longueur = longueur\n",
    "        self.intersection = None\n",
    "        self.vecteur = [0 for i in range(longueur)]\n",
    "\n",
    "    def est_feu_vert(self):\n",
    "        if self.type_route == \"sortie\":\n",
    "            return True\n",
    "        index = self.intersection.entrees.index(self)\n",
    "        return True if self.intersection.phase_actuelle[index] == 1 else False"
   ]
  },
  {
   "cell_type": "markdown",
   "id": "18a0eeab-4035-4303-8336-f7734410b36e",
   "metadata": {},
   "source": [
    "### 2. Définition d'une intersection\n",
    "\n",
    "Une intersection est le croisement entre plusieurs routes. Pour éviter les colisions entre véhicules, celles-ci sont gérées par des feux bicolores, rouge ou vert. Une intersection possède un jeu de phases, qui représentent les droits de passage de l'intersection pour chacune des voies d'entrée. Une phase est représentée sous la forme d'un vecteur composés de 0 et de 1, indiquant respectivement si les véhicules d'une voie d'entrée ont feu rouge ou feu vert (l'ordre du vecteur d'une phase doit suivre le même ordre que celui des entrées). Chaque intersection possède une stratégie pour la sélection des phases : à chaque pas de simulation, l'intersection choisit de conserver ou de changer de phases selon cette stratégie. A cette fin, nous développons une méthode `changer_phase` qui sera invoquée lors de chaque tour de parole."
   ]
  },
  {
   "cell_type": "code",
   "execution_count": null,
   "id": "174433ed-9e7e-4b5d-ae13-1ea72d98a39c",
   "metadata": {},
   "outputs": [],
   "source": [
    "# Définition d'une intersection\n",
    "\n",
    "class Intersection:\n",
    "\n",
    "    def __init__(self, nom, entrees, sorties, phases, strategie):\n",
    "        self.nom = nom\n",
    "        self.entrees = entrees\n",
    "        self.sorties = sorties\n",
    "        self.phases = phases\n",
    "        self.strategie = strategie\n",
    "        self.phase_actuelle = phases[0]\n",
    "        self.phase_actuelle_index = 0\n",
    "        self.temps_phase_actuelle = 0\n",
    "\n",
    "    def changer_phase(self):\n",
    "        ancienne_phase = self.phase_actuelle\n",
    "        self.temps_phase_actuelle += 1\n",
    "        self.phase_actuelle = self.phases[self.strategie.prochaine_phase(self)]\n",
    "        if self.phase_actuelle != ancienne_phase:\n",
    "            self.temps_phase_actuelle = 0 \n",
    "            self.phase_actuelle_index = self.phases.index(self.phase_actuelle)\n",
    "            print(\"L'intersection {} passe à la phase {}\".format(self.nom, self.phase_actuelle))"
   ]
  },
  {
   "cell_type": "markdown",
   "id": "692de4c3-50be-424e-bc04-da909fd6da09",
   "metadata": {},
   "source": [
    "### 3. Définition d'une voiture\n",
    "\n",
    "Les voitures sont les véhicules de base de notre SMA : ils circulent sur les routes, empruntent les intersections jusqu'à atteindre une destination finale, et se désactiver. Une voiture n'a qu'une seule méthode : `avancer`, qui fait avancer le véhicule le long de sa route **si c'est possible**. Si un autre véhicule est situé juste devant lui, il ne peut avancer et reste sur place. Lorsqu'il est situé sur la dernière case d'une route, le véhicule a deux options :\n",
    "- si la route est une sortie, il se désactive et son trajet est terminé.\n",
    "- sinon, il emprunte une nouvelle route à l'intersection (si le feu est vert) selon la stratégie qui lui est passée en paramètre."
   ]
  },
  {
   "cell_type": "code",
   "execution_count": null,
   "id": "115af8fa-c1f4-4323-9153-287278bb58f5",
   "metadata": {},
   "outputs": [],
   "source": [
    "# Définition d'un véhicule\n",
    "\n",
    "class Voiture:\n",
    "\n",
    "    def __init__(self, nom, route, strategie):\n",
    "        self.nom = nom\n",
    "        self.actif = True\n",
    "        self.temps_actif = 0\n",
    "        self.position_route = 0\n",
    "        self.route_actuelle = route\n",
    "        self.strategie = strategie\n",
    "\n",
    "    def avancer(self):\n",
    "        self.temps_actif += 1\n",
    "        # Cas où le véhicule est en dernière position de la route\n",
    "        if self.position_route == self.route_actuelle.longueur - 1:\n",
    "            # Si la route est une sortie, alors le véhicule devient inactif\n",
    "            if self.route_actuelle.type_route == \"sortie\":\n",
    "                self.route_actuelle.vecteur[self.position_route] = 0\n",
    "                self.actif = False\n",
    "                print(\"Le véhicule {} a terminé son trajet en {} ticks.\".format(self.nom, self.temps_actif))\n",
    "            # Sinon, il choisit la route suivante selon sa stratégie, si le feu est vert et s'il n'y a personne sur la route suivante\n",
    "            else:\n",
    "                if self.route_actuelle.est_feu_vert():\n",
    "                    prochaine_route = self.strategie.prochaine_route(self)\n",
    "                    if prochaine_route.vecteur[0] == 0:\n",
    "                        self.route_actuelle.vecteur[self.position_route] = 0\n",
    "                        self.route_actuelle = prochaine_route\n",
    "                        self.route_actuelle.vecteur[0] = self\n",
    "                        self.position_route = 0\n",
    "                        print(\"Le véhicule {} est passé sur la route {}.\".format(self.nom, self.route_actuelle.nom))\n",
    "        # S'il n'est pas au bout d'une voie, il avance s'il peut.\n",
    "        else:\n",
    "            if self.route_actuelle.vecteur[self.position_route + 1] == 0:\n",
    "                self.position_route += 1\n",
    "                self.route_actuelle.vecteur[self.position_route - 1] = 0\n",
    "                self.route_actuelle.vecteur[self.position_route] = self         "
   ]
  },
  {
   "cell_type": "markdown",
   "id": "0e422068-6670-4b75-b026-b8714c4fab0b",
   "metadata": {},
   "source": [
    "### 4. Définition du *scheduler*\n",
    "\n",
    "Le *scheduler* est la classe qui contrôle le système multi-agents. Attention lorsque l'on parle de contrôle : il ne s'agit pas ici de prendre le contrôle de chacun des agents, mais d'ordonner les temps de parole entre les agents. Les agents restent indépendants. Ici, nous nommons le *scheduler* `GestionnaireReseau`.\n",
    "\n",
    "A chaque pas de simulation, le `GestionnaireReseau` donne la parole à toutes les intersections, puis à tous les véhicules, et génère enfin un véhicule sur la première case de chaque entrée selon une probabilité passée en paramètre. La méthode `run` exécute le SMA pendant $n$ ticks."
   ]
  },
  {
   "cell_type": "code",
   "execution_count": null,
   "id": "a948d223-5926-4e93-8427-4b3dfaa072e5",
   "metadata": {},
   "outputs": [],
   "source": [
    "# Définition du gestionnaire réseau (Scheduler du SMA)\n",
    "\n",
    "class GestionnaireReseau:\n",
    "\n",
    "    def __init__(self, routes, intersections, proba, strategie_vehicule):\n",
    "        self.routes = routes\n",
    "        self.intersections = intersections\n",
    "        self.proba = proba\n",
    "        self.strategie_vehicules = strategie_vehicule\n",
    "        self.vehicules = []\n",
    "        self.compte_vehicules = 0\n",
    "\n",
    "    def au_tour_des_intersections(self):\n",
    "        random.shuffle(self.intersections)\n",
    "        for intersection in self.intersections:\n",
    "            intersection.changer_phase()\n",
    "\n",
    "    def au_tour_des_vehicules(self):\n",
    "        random.shuffle(self.vehicules)\n",
    "        for vehicule in self.vehicules:\n",
    "            if vehicule.actif:\n",
    "                vehicule.avancer()\n",
    "\n",
    "    def generer_vehicules(self):\n",
    "        for route in routes:\n",
    "            if route.type_route == \"entree\":\n",
    "                if route.vecteur[0] == 0:\n",
    "                    alea = random.random()\n",
    "                    if alea <= self.proba:\n",
    "                        self.compte_vehicules += 1\n",
    "                        vehicule = Voiture(\n",
    "                            nom = str(self.compte_vehicules),\n",
    "                            route = route,\n",
    "                            strategie = self.strategie_vehicules\n",
    "                        )\n",
    "                        route.vecteur[0] = vehicule\n",
    "                        self.vehicules.append(vehicule)\n",
    "\n",
    "    def run(self, nb_ticks):\n",
    "        for _ in range(nb_ticks):\n",
    "            self.au_tour_des_intersections()\n",
    "            self.au_tour_des_vehicules()\n",
    "            self.generer_vehicules()\n",
    "        print(\"\\n\\nSIMULATION TERMINEE\")"
   ]
  },
  {
   "cell_type": "markdown",
   "id": "839b4832-a036-427d-bffb-46854cd4a869",
   "metadata": {},
   "source": [
    "### 5. Stratégies\n",
    "\n",
    "Ici, nous allons implémenter les stratégies pour les intersections et les véhicules.\n",
    "\n",
    "#### a. Stratégie temps fixe\n",
    "\n",
    "Pour les intersections, nous implémentons une simple stratégie à temps fixe : toutes les phases de l'intersection ont la même durée. Lorsque le temps de la phase est atteint, on passe à la phase suivante."
   ]
  },
  {
   "cell_type": "code",
   "execution_count": null,
   "id": "1a25c753-ebbd-4b04-b491-d8abfefe66d0",
   "metadata": {},
   "outputs": [],
   "source": [
    "# Stratégie Intersection Temps Fixe\n",
    "\n",
    "class TempsFixe:\n",
    "\n",
    "    def __init__(self, temps_phase):\n",
    "        self.temps_phase = temps_phase\n",
    "\n",
    "    def prochaine_phase(self, intersection):\n",
    "        if intersection.temps_phase_actuelle >= self.temps_phase:\n",
    "            return (intersection.phase_actuelle_index + 1) % len(intersection.phases)\n",
    "        else:\n",
    "            return intersection.phase_actuelle_index"
   ]
  },
  {
   "cell_type": "markdown",
   "id": "b68021dd-23c4-44c1-ab73-f2d782d14fab",
   "metadata": {},
   "source": [
    "#### b. Stratégie aléatoire uniforme\n",
    "\n",
    "Pour les véhicules, nous implémentons une stratégie aléatoire uniforme. Lorsque le véhicule atteint une intersection, il choisit aléatoirement une sortie parmi celles possibles, avec la même probabilité pour chaque."
   ]
  },
  {
   "cell_type": "code",
   "execution_count": null,
   "id": "faef3544-264a-4bee-9efc-ec88f195d4bc",
   "metadata": {},
   "outputs": [],
   "source": [
    "# Stratégie Véhicule Aléatoire Uniforme\n",
    "\n",
    "class DirectionAleatoireUniforme:\n",
    "\n",
    "    def prochaine_route(self, vehicule):\n",
    "        sorties_possibles = vehicule.route_actuelle.intersection.sorties\n",
    "        return random.choice(sorties_possibles)"
   ]
  },
  {
   "cell_type": "markdown",
   "id": "e19a46b0-fe6c-4448-ac3e-843f1040f089",
   "metadata": {},
   "source": [
    "### 6. Instanciation du réseau\n",
    "\n",
    "Nous créons ici, à l'aide des composants que nous avons développés plus haut, un réseau grille 2x2, c'est à dire un réseau composé de 2x2 intersections. Chaque route fait 50 cases de long (les intersections n'ont pas de longueur), et chaque véhicule et intersection est implémenté avec la stratégie qui leur a été développée plus haut."
   ]
  },
  {
   "cell_type": "code",
   "execution_count": null,
   "id": "36222f92-d8e8-4d90-a9f2-2ceff364541f",
   "metadata": {},
   "outputs": [],
   "source": [
    "# Créer le réseau grille 2x2\n",
    "\n",
    "# Définition des routes\n",
    "s1_A = Route('s1_A', 'entree', 50); s8_A = Route('s8_A', 'entree', 50); D_A = Route('D_A', 'lien', 50); B_A = Route('B_A', 'lien', 50)\n",
    "A_s1 = Route('A_s1', 'sortie', 50); A_s8 = Route('A_s8', 'sortie', 50); A_D = Route('A_D', 'lien', 50); A_B = Route('A_B', 'lien', 50)\n",
    "s2_B = Route('s2_B', 'entree', 50); s3_B = Route('s3_B', 'entree', 50); C_B = Route('A_D', 'lien', 50)\n",
    "B_s2 = Route('B_s2', 'sortie', 50); B_s3 = Route('B_s3', 'sortie', 50); B_C = Route('B_C', 'lien', 50)\n",
    "s4_C = Route('s4_C', 'entree', 50); s5_C = Route('s5_C', 'entree', 50); D_C = Route('D_C', 'lien', 50)\n",
    "C_s4 = Route('C_s4', 'sortie', 50); C_s5 = Route('C_s5', 'sortie', 50); C_D = Route('C_D', 'lien', 50)\n",
    "s6_D = Route('s6_D', 'entree', 50); s7_D = Route('s7_D', 'entree', 50);\n",
    "D_s6 = Route('D_s6', 'sortie', 50); D_s7 = Route('D_s7', 'sortie', 50);\n",
    "routes = [s1_A, s8_A, D_A, B_A, A_s1, A_s8, A_D, A_B, s2_B, s3_B, C_B, B_s2, B_s3, B_C, s4_C, s5_C, D_C, C_s4, C_s5, C_D, s6_D, s7_D, D_s6, D_s7]\n",
    "\n",
    "\n",
    "# Définition des stratégies\n",
    "strategie_vehicules = DirectionAleatoireUniforme()\n",
    "strategie_intersections = TempsFixe(30)\n",
    "\n",
    "\n",
    "# Définition des intersections\n",
    "A = Intersection(\n",
    "    nom = 'A',\n",
    "    entrees = [s1_A, s8_A, D_A, B_A],\n",
    "    sorties = [A_s1, A_s8, A_D, A_B],\n",
    "    phases = [[0, 1, 0, 1], [1, 0, 1, 0]],\n",
    "    strategie = strategie_intersections\n",
    ")\n",
    "\n",
    "B = Intersection(\n",
    "    nom = 'B',\n",
    "    entrees = [s2_B, s3_B, A_B, C_B],\n",
    "    sorties = [B_s2, B_s3, B_A, B_C],\n",
    "    phases = [[0, 1, 0, 1], [1, 0, 1, 0]],\n",
    "    strategie = strategie_intersections\n",
    ")\n",
    "\n",
    "C = Intersection(\n",
    "    nom = 'C',\n",
    "    entrees = [B_C, s4_C, s5_C, D_C],\n",
    "    sorties = [C_B, C_s4, C_s5, C_D],\n",
    "    phases = [[0, 1, 0, 1], [1, 0, 1, 0]],\n",
    "    strategie = strategie_intersections\n",
    ")\n",
    "\n",
    "D = Intersection(\n",
    "    nom = 'D',\n",
    "    entrees = [A_D, C_D, s6_D, s7_D],\n",
    "    sorties = [D_A, D_C, D_s6, D_s7],\n",
    "    phases = [[0, 1, 0, 1], [1, 0, 1, 0]],\n",
    "    strategie = strategie_intersections\n",
    ")\n",
    "\n",
    "intersections = [A, B, C, D]\n",
    "\n",
    "# Ajout manuel des intersections aux routes\n",
    "s1_A.intersection = A; s8_A.intersection = A; D_A.intersection = A; B_A.intersection = A\n",
    "A_B.intersection = B; s2_B.intersection = B; s3_B.intersection = B; C_B.intersection = B\n",
    "B_C.intersection = C; s4_C.intersection = C; s5_C.intersection = C; D_C.intersection = C\n",
    "C_D.intersection = D; s6_D.intersection = D; s7_D.intersection = D; A_D.intersection = D; "
   ]
  },
  {
   "cell_type": "markdown",
   "id": "0e4cf125-6fca-4ed5-b362-bc02fb549c39",
   "metadata": {},
   "source": [
    "Et nous lançons le SMA sur 1000 pas de simulation."
   ]
  },
  {
   "cell_type": "code",
   "execution_count": null,
   "id": "624353c7-23dd-4ea1-a182-43ea7bfd24ee",
   "metadata": {},
   "outputs": [],
   "source": [
    "# Définition du gestionnaire\n",
    "\n",
    "gest = GestionnaireReseau(\n",
    "    routes = routes,\n",
    "    intersections = intersections,\n",
    "    proba = 0.2,\n",
    "    strategie_vehicule = strategie_vehicules\n",
    ")\n",
    "\n",
    "gest.run(1000)"
   ]
  },
  {
   "cell_type": "markdown",
   "id": "7293175e-75f8-45ac-8e5d-378920e7f897",
   "metadata": {},
   "source": [
    "# B. Exercices\n",
    "\n",
    "### I. Comportements de véhicules\n",
    "- Créez une stratégie qui donne une destination à atteindre à la voiture. La voiture doit prendre le plus court chemin pour arriver à sa destination. La classe doit implémenter une fonction `prochaine_route`.\n",
    "- Ajoutez une classe Camion qui représente un camion dans le système. Un camion fait deux cases de long, et lorsqu'il est à l'arrêt, il ne redémarre qu'au deuxième tick après que la voie se soit libérée devant lui. La classe doit forcément posséder une fonction `avancer`.\n",
    "\n",
    "### II. Comportements d'intersections\n",
    "Implémentez les comportements d'intersection suivants (toutes les classes doivent implémenter une méthode `prochaine_phase`) :\n",
    "- Longest Queue First : La prochaine phase sélectionnée est celle qui a la plus grande file de véhicules depuis l'intersection. Une file est une suite de case du vecteur de la route qui sont occupées par un véhicule, depuis le feu.\n",
    "- Feu booléen : L'intersection possède des capteurs sur chaque voie qui lui permettent de repérer si un véhicule est en attente sur une portée de 5 cases. Si la phase active ne possède pas de véhicules à faire passer sur cette distance, alors on passe à la phase suivante. Si le temps de la phase actuelle dépasse un temps maximum à passer en paramètre, alors on passe à la phase suivante. \n",
    "- Self Organizing Traffic Lights : Même comportement que le feu booléens, sauf qu'on ajoute un seuil comme paramètre. Lorsque le temps d'attente cumulé des véhicules qui sont sur des voies pour laquelle le feu est rouge dépasse ce seuil, on passe à la phase suivante.\n",
    "- Max Pressure : Calculez la pression pour chaque phase. La pression est égale à la différence entre le nombre de véhicules sur les voies vertes de la phase, et le nombre de véhicules en sortie. La phase qui maximise la pression est sélectionnée.\n",
    "- **Bonus** Coordination : (A ajouter au code des autres comportements) Lorsque qu'un certain nombre de véhicules (passé en paramètre) traverse l'intersection vers la même route, l'intersection suivante est obligée de passer verte pour cette voie si ce n'est pas déjà le cas.\n",
    "\n",
    "### III. Comportement du SMA\n",
    "Jusqu'à maintenant, nous sélectionnions aléatoirement l'ordre des tours de parole des véhicules dans le `GestionnaireReseau`. Cela entraîne des problèmes : les véhicules devraient pouvoir avancer en même temps et ce n'est pas le cas ici, ce qui n'est pas réaliste. Modifiez cette classe pour faire en sorte que tous les véhicules se déplacent \"en même temps\" pendant un tour de paroles.\n",
    "\n",
    "*Note : La solution à adopter consiste à créer un réseau \"jumeau\" temporaire pour simuler le déplacement de tous les véhicules, et à résoudre les conflits ensuite.*\n",
    "\n",
    "### IV. Etude de performance\n",
    "Réalisez une étude des performance de chacun des comportements d'intersection, en réalisant plusieurs simulations et en faisant varier les paramètres (attention : les différents comportements doivent être évalués sur les mêmes paramètres). L'objectif est de minimiser le temps de trajet moyen des utilisateurs. Lequel est le meilleur ?"
   ]
  },
  {
   "cell_type": "code",
   "execution_count": null,
   "id": "216f6976-6dd9-48ad-beb8-28466ea03317",
   "metadata": {},
   "outputs": [],
   "source": []
  }
 ],
 "metadata": {
  "kernelspec": {
   "display_name": "Python 3 (ipykernel)",
   "language": "python",
   "name": "python3"
  },
  "language_info": {
   "codemirror_mode": {
    "name": "ipython",
    "version": 3
   },
   "file_extension": ".py",
   "mimetype": "text/x-python",
   "name": "python",
   "nbconvert_exporter": "python",
   "pygments_lexer": "ipython3",
   "version": "3.12.3"
  }
 },
 "nbformat": 4,
 "nbformat_minor": 5
}
